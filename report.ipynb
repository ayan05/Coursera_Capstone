{
 "cells": [
  {
   "cell_type": "markdown",
   "metadata": {},
   "source": [
    "## Capstone Project Report - Fun places to visit at Kolkata, India"
   ]
  },
  {
   "cell_type": "markdown",
   "metadata": {},
   "source": [
    "### Introduction"
   ]
  },
  {
   "cell_type": "markdown",
   "metadata": {},
   "source": [
    "#### 1. Problem Description"
   ]
  },
  {
   "cell_type": "markdown",
   "metadata": {},
   "source": [
    "When we visit some unfamiliar place for vacation or holidays we have to rely on tourist guides or some other person. It is also seen that we end up not visiting one or two places because of the lack of coordination or unfamiliarity with the places. People also visit fun places on weekends and they also get often confused on where to go. This approach will list all the significant places at Kolkata and divide the all the places based on their distance. By this tourists will have a general idea of which place to visit first, prioritize their sightseeings and plan their tour accordingly."
   ]
  },
  {
   "cell_type": "markdown",
   "metadata": {},
   "source": [
    "#### 2. Data Collection"
   ]
  },
  {
   "cell_type": "markdown",
   "metadata": {},
   "source": [
    "For data collection and retrieval Foursquare API was used. A typical request from Foursquare will provide us with the information  of venue name, venue address, city, latitude and longitude. The keyword “Fun” was used to search places at Kolkata. Radius of the search was limited to 100000 meters."
   ]
  },
  {
   "cell_type": "markdown",
   "metadata": {},
   "source": [
    "### Methodology"
   ]
  },
  {
   "cell_type": "markdown",
   "metadata": {},
   "source": [
    "The approach for this issue is to list down the fun places available in the selected area, i.e, Kolkata and group them based on the distance and also the route which is less affected by traffic.\n",
    "\n",
    "Data requirements for this analysis are the list of places along with distance from the given location in Kolkata city. The FourSquare API is used to extract the required data and the dataframe was extracted with name, location and distance information.\n",
    "\n",
    "The prepared data has NaN values for location information which was replaced with the city name to complete the dataframe. From the data preparation, it is understood that the locations are spread across the city and we can understand the route and area information.\n",
    "\n",
    "The map illustrates all the popular places for my analysis. "
   ]
  },
  {
   "cell_type": "markdown",
   "metadata": {},
   "source": [
    "### Results and Discussion"
   ]
  },
  {
   "cell_type": "markdown",
   "metadata": {},
   "source": [
    "Foursquare AP1 has given 34 popular places for tourists to visit at Kolkata. With the help of K-means clustering we have generated four clusters of all the places ranging from nearest to farthest based on their distances. The first cluster consist of 6 places and is ranging from 423 to 1228 meters. The second cluster consist of 11 places ranging from 2464 to 3177 meters. The third cluster consists of 8 places ranging from 3507 to 4166 meters. The fourth cluster consist of 9 places ranging from 1654 to 2253."
   ]
  },
  {
   "cell_type": "markdown",
   "metadata": {},
   "source": [
    "### Conclusion"
   ]
  },
  {
   "cell_type": "markdown",
   "metadata": {},
   "source": [
    "With this analysis, the tourists who are planning to visit Kolkata in the near future can plan their sightseeing accordingly or people who just want to visit fun places at the weekends can do so. This will help them to plan their route to avoid the heavy traffics. Users might not be interested to visit all the places but they can pick places from the various clusters, and prioritize which places to visit first according to their convenience."
   ]
  }
 ],
 "metadata": {
  "kernelspec": {
   "display_name": "Python 3",
   "language": "python",
   "name": "python3"
  },
  "language_info": {
   "codemirror_mode": {
    "name": "ipython",
    "version": 3
   },
   "file_extension": ".py",
   "mimetype": "text/x-python",
   "name": "python",
   "nbconvert_exporter": "python",
   "pygments_lexer": "ipython3",
   "version": "3.6.5"
  }
 },
 "nbformat": 4,
 "nbformat_minor": 2
}
